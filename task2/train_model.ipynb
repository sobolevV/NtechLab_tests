{
 "cells": [
  {
   "cell_type": "code",
   "execution_count": 1,
   "metadata": {},
   "outputs": [],
   "source": [
    "import os\n",
    "os.environ['CUDA_LAUNCH_BLOCKING'] = \"1\""
   ]
  },
  {
   "cell_type": "code",
   "execution_count": 2,
   "metadata": {},
   "outputs": [],
   "source": [
    "import torch.nn as nn\n",
    "import torch\n",
    "import torch.nn.functional as F\n",
    "import numpy as np\n",
    "import matplotlib.pyplot as plt\n",
    "import os\n",
    "\n",
    "from random import shuffle\n",
    "from PIL import Image\n",
    "from torch.utils.data import DataLoader, Dataset\n",
    "from glob import glob\n",
    "from torchvision import transforms\n"
   ]
  },
  {
   "cell_type": "code",
   "execution_count": 3,
   "metadata": {},
   "outputs": [
    {
     "data": {
      "text/plain": [
       "True"
      ]
     },
     "execution_count": 3,
     "metadata": {},
     "output_type": "execute_result"
    }
   ],
   "source": [
    "torch.cuda.is_available()"
   ]
  },
  {
   "cell_type": "markdown",
   "metadata": {},
   "source": [
    "## Function for importing data from dirs"
   ]
  },
  {
   "cell_type": "code",
   "execution_count": 4,
   "metadata": {},
   "outputs": [],
   "source": [
    "def get_train_valid_data(base_dir, file_format=\".jpg\", valid_size=0.25):\n",
    "    dirs_inside = {}  # class - index dict\n",
    "    for index, dir_name in enumerate(os.listdir(base_dir)):\n",
    "        # add only directories inside\n",
    "        if os.path.isdir(os.path.join(base_dir, dir_name)):\n",
    "            dirs_inside[dir_name] = float(index)\n",
    "            \n",
    "    print(f'Found {len(dirs_inside.keys())} classes')\n",
    "    # create train and validate lists for images paths\n",
    "    train_data_x, train_data_y = [], []\n",
    "    valid_data_x, valid_data_y = [], []\n",
    "    \n",
    "    for sub_dir in dirs_inside.keys():\n",
    "        # get all images inside directory\n",
    "        class_data = glob(os.path.join(base_dir, sub_dir) + f\"\\\\*{file_format}\", recursive=True) \n",
    "        # get count samples for training set\n",
    "        class_samples_train = int(len(class_data) * (1 - valid_size))\n",
    "        print(f'Found {len(class_data)} images for {sub_dir}')\n",
    "        \n",
    "        train_data_x += class_data[:class_samples_train]    \n",
    "        valid_data_x += class_data[class_samples_train:]\n",
    "    # shuffle data\n",
    "    shuffle(train_data_x)\n",
    "    shuffle(valid_data_x)\n",
    "    # set labels\n",
    "    train_data_y = [dirs_inside[file.split('\\\\')[-2]] for file in train_data_x]\n",
    "    valid_data_y = [dirs_inside[file.split('\\\\')[-2]] for file in valid_data_x] \n",
    "    \n",
    "    print(f\"Train size is {len(train_data_x)}, validation size is {len(valid_data_x)}\")\n",
    "    return train_data_x, train_data_y, valid_data_x, valid_data_y"
   ]
  },
  {
   "cell_type": "code",
   "execution_count": 5,
   "metadata": {},
   "outputs": [
    {
     "name": "stdout",
     "output_type": "stream",
     "text": [
      "Found 2 classes\n",
      "Found 50001 images for female\n",
      "Found 50001 images for male\n",
      "Train size is 75000, validation size is 25002\n"
     ]
    }
   ],
   "source": [
    "data_folder = \"D:\\\\internship_data\"\n",
    "train_x, train_y, valid_x, valid_y = get_train_valid_data(base_dir=data_folder)"
   ]
  },
  {
   "cell_type": "code",
   "execution_count": 6,
   "metadata": {},
   "outputs": [],
   "source": [
    "class MyImageDataset(Dataset):\n",
    "    \"\"\"Create pytorch iterable Dataset to generate images with X paths\n",
    "    params:\n",
    "        X[list] - list of paths for images\n",
    "        Y[list] - list of labels for X\n",
    "        img_size (int) - size of output images. Default 156\n",
    "        transform_compose (torchvision.transforms.Compose) - transforms for output images. \n",
    "            Default: transforms.Compose([transforms.Resize((img_size, img_size)), transforms.ToTensor(),])\n",
    "    \"\"\"\n",
    "    def __init__(self, X, Y, base_dir, img_size=156, transform_compose=None):\n",
    "        self.files = X\n",
    "        self.classes = Y\n",
    "        self.size = img_size\n",
    "        self.transforms = transforms.Compose([transforms.Resize((img_size, img_size)), \n",
    "                                              transforms.ToTensor(),]) if transform_compose is None else transform_compose  \n",
    "    \n",
    "    def __len__(self):\n",
    "        return len(self.files)\n",
    "    \n",
    "    def __getitem__(self, key):\n",
    "        # get image by path with index=key\n",
    "        pillow_img = Image.open(self.files[key])\n",
    "        # apply transforms to image\n",
    "        x = self.transforms(pillow_img)\n",
    "        y = self.classes[key]\n",
    "        return x, y"
   ]
  },
  {
   "cell_type": "code",
   "execution_count": 7,
   "metadata": {},
   "outputs": [],
   "source": [
    "# test any samples for model \n",
    "def validate_model(model, data_loader, num_samples=100, cuda_model=True):\n",
    "    predictions, real_classes = [], []\n",
    "    # get X and Y from data_loader\n",
    "    for sample_index, (xb, yb) in enumerate(data_loader):\n",
    "        with torch.no_grad():\n",
    "            # pass X to model\n",
    "            if cuda_model:\n",
    "                preds = vgg_model(xb.cuda())\n",
    "            else:\n",
    "                preds = vgg_model(xb)\n",
    "        preds = F.softmax(preds)  # pass results to activate function\n",
    "        predictions.append(torch.argmax(preds.cpu()).item())  # get value with max probability\n",
    "        real_classes.append(yb.item())\n",
    "        if sample_index == num_samples:\n",
    "            break\n",
    "            \n",
    "    predictions = np.array(predictions, dtype=int)\n",
    "    real_classes = np.array(real_classes, dtype=int)\n",
    "    print(\"accuracy is\", np.mean((predictions==real_classes).astype(float)) )  # calc. accuracy\n",
    "    return predictions, real_classes"
   ]
  },
  {
   "cell_type": "markdown",
   "metadata": {},
   "source": [
    "### Create VGG model"
   ]
  },
  {
   "cell_type": "code",
   "execution_count": 8,
   "metadata": {},
   "outputs": [],
   "source": [
    "from torchvision.models import vgg16\n",
    "\n",
    "def set_parameter_requires_grad(model, feature_extracting):\n",
    "    \"\"\"Seting model parameters not trainable\"\"\"\n",
    "    if feature_extracting:\n",
    "        for param in model.features.parameters():\n",
    "            param.requires_grad = False\n",
    "            \n",
    "def get_vgg_model(num_classes, path='vgg16_model.pt', feature_extracting=True):\n",
    "    \"\"\"Get vgg model with fixed parameters if feature_extracting = True.\n",
    "    params:\n",
    "        num_classes (int): count of outputs for model\n",
    "        feature_extracting (bool): sets models parameters not trainable\n",
    "    returns: model, input_image_size\n",
    "    \"\"\"\n",
    "    input_size = 224  # input size for vgg pretrained model\n",
    "    model = torch.load(path)  # my default path\n",
    "    set_parameter_requires_grad(model, feature_extracting=True)\n",
    "    \n",
    "    num_features = model.classifier[6].in_features  # size of input for 6-nd fc layer\n",
    "    features = list(model.classifier.children())[:-1] # remove last layer\n",
    "    features.extend([nn.Linear(num_features, num_classes)]) # add new layer with new num_classes\n",
    "    model.classifier = nn.Sequential(*features) # replace the model classifier\n",
    "\n",
    "    return model, input_size"
   ]
  },
  {
   "cell_type": "code",
   "execution_count": 9,
   "metadata": {},
   "outputs": [],
   "source": [
    "# clear cuda cache\n",
    "torch.cuda.empty_cache()"
   ]
  },
  {
   "cell_type": "code",
   "execution_count": 10,
   "metadata": {},
   "outputs": [],
   "source": [
    "# get model\n",
    "vgg_model, img_size = get_vgg_model(num_classes=2, feature_extracting=True)\n",
    "# load to gpu\n",
    "vgg_model.cuda()\n",
    "optimizer_vgg = torch.optim.Adam(vgg_model.parameters(), lr=1e-3)\n",
    "loss_function_vgg = nn.CrossEntropyLoss()  # classification loss"
   ]
  },
  {
   "cell_type": "code",
   "execution_count": 11,
   "metadata": {},
   "outputs": [],
   "source": [
    "# use standart transforms with normalization and without augmentation\n",
    "vgg_transforms = transforms.Compose([transforms.Resize((img_size, img_size)), \n",
    "                                     transforms.ToTensor(), \n",
    "                                     transforms.Normalize([0.485, 0.456, 0.406], [0.229, 0.224, 0.225])])\n",
    "\n",
    "# create pytorch dataset for DataLoader\n",
    "train_ds_vgg = MyImageDataset(train_x, train_y, base_dir=data_folder, img_size=img_size, transform_compose=vgg_transforms)\n",
    "valid_ds_vgg = MyImageDataset(valid_x, valid_y, base_dir=data_folder, img_size=img_size, transform_compose=vgg_transforms)\n",
    "# create pytorch batch loaders\n",
    "vgg_dl_train = DataLoader(train_ds_vgg, batch_size=32, shuffle=True, drop_last=True, pin_memory=False)\n",
    "vgg_dl_valid = DataLoader(valid_ds_vgg, pin_memory=False)"
   ]
  },
  {
   "cell_type": "markdown",
   "metadata": {},
   "source": [
    "### Create new simple CNN"
   ]
  },
  {
   "cell_type": "code",
   "execution_count": 12,
   "metadata": {},
   "outputs": [],
   "source": [
    "class CNN_Net(nn.Module):\n",
    "    \n",
    "    def __init__(self, input_channels=3, output_size=1):\n",
    "        super(CNN_Net, self).__init__()\n",
    "        self.conv1 = nn.Conv2d(in_channels=input_channels, out_channels=32, kernel_size=5, padding=2)\n",
    "        self.conv2 = nn.Conv2d(in_channels=32, out_channels=64, kernel_size=5, padding=2)\n",
    "        self.conv3 = nn.Conv2d(in_channels=64, out_channels=128, kernel_size=3)\n",
    "        self.conv4 = nn.Conv2d(in_channels=128, out_channels=256, kernel_size=3)\n",
    "        self.conv5 = nn.Conv2d(in_channels=256, out_channels=428, kernel_size=3)\n",
    "        \n",
    "        self.fc1 = nn.Linear(428*3*3, 1024)  # sizes from c5\n",
    "        self.fc2 = nn.Linear(1024, 128)\n",
    "        self.out = nn.Linear(128, output_size)\n",
    "        \n",
    "        self.flatten_size = None\n",
    "    \n",
    "    def forward(self, x):\n",
    "        c1 = F.max_pool2d(F.relu(self.conv1(x)), (2, 2))\n",
    "        c2 = F.max_pool2d(F.relu(self.conv2(c1)), (2, 2))\n",
    "        c3 = F.max_pool2d(F.relu(self.conv3(c2)), (2, 2))\n",
    "        c4 = F.max_pool2d(F.relu(self.conv4(c3)), (2, 2))\n",
    "        c5 = F.max_pool2d(F.relu(self.conv5(c4)), (2, 2))\n",
    "        \n",
    "        if self.flatten_size is None:\n",
    "            self.flatten_size = c5.shape[1] * c5.shape[2] * c5.shape[3]\n",
    "            \n",
    "        c5 = c5.view(-1, self.flatten_size)\n",
    "        f1 = F.relu(self.fc1(c5))\n",
    "        f2 = F.relu(self.fc2(f1))\n",
    "        out = self.out(f2)\n",
    "        return out"
   ]
  },
  {
   "cell_type": "code",
   "execution_count": 13,
   "metadata": {},
   "outputs": [],
   "source": [
    "model = CNN_Net(output_size=2)\n",
    "model.cuda()\n",
    "optimizer = torch.optim.Adam(model.parameters(), lr=1e-3)\n",
    "loss_function = nn.CrossEntropyLoss()"
   ]
  },
  {
   "cell_type": "code",
   "execution_count": 14,
   "metadata": {},
   "outputs": [],
   "source": [
    "IMG_SIZE = 156\n",
    "train_ds = MyImageDataset(train_x, train_y, base_dir=data_folder, img_size=IMG_SIZE)\n",
    "valid_ds = MyImageDataset(valid_x, valid_y, base_dir=data_folder, img_size=IMG_SIZE)\n",
    "\n",
    "tensor_dl_train = DataLoader(train_ds, batch_size=32, shuffle=True, pin_memory=False)\n",
    "tensor_dl_valid = DataLoader(valid_ds, pin_memory=False)"
   ]
  },
  {
   "cell_type": "markdown",
   "metadata": {},
   "source": [
    "## 1. Train model"
   ]
  },
  {
   "cell_type": "code",
   "execution_count": 15,
   "metadata": {},
   "outputs": [],
   "source": [
    "def accuracy(pred_tensor, target):\n",
    "    pred_classes = torch.argmax(pred_tensor, dim=1)\n",
    "    equal_classes = (pred_classes == target).float()\n",
    "    return torch.mean(equal_classes)"
   ]
  },
  {
   "cell_type": "code",
   "execution_count": 16,
   "metadata": {},
   "outputs": [],
   "source": [
    "def train(model, epochs, optimizer, loss_func, train_loader, valid_loader=None, train_frac=1.):\n",
    "    # create history for each epoch list for metrics\n",
    "    train_history = [[], []]\n",
    "    valid_history = [[], []]\n",
    "    for ep in range(epochs):\n",
    "        # history for current epoch\n",
    "        ep_train_loss, ep_train_acc = [], []\n",
    "        for i, (xb, yb) in enumerate(train_loader):\n",
    "            optimizer.zero_grad()\n",
    "            # pass to gpu\n",
    "            yb = yb.long().cuda()\n",
    "            # get predictions\n",
    "            preds = model(xb.cuda())\n",
    "            # calculate loss\n",
    "            loss = loss_func(preds, yb)\n",
    "            # backpropagation\n",
    "            loss.backward()\n",
    "            optimizer.step()\n",
    "            \n",
    "            # calculate metrics for batch\n",
    "            acc = accuracy(preds, yb).item()\n",
    "            ep_train_acc.append(acc)\n",
    "            ep_train_loss.append(loss.item())\n",
    "            \n",
    "            if i % 100 == 0:\n",
    "                print(f'Process {i/(len(train_loader)*train_frac)}%')\n",
    "            \n",
    "            if i / len(train_loader) >= train_frac:\n",
    "                break\n",
    "            \n",
    "        # mean accuracy and loss for current epoch\n",
    "        train_history[0].append(np.array(ep_train_acc).mean())\n",
    "        train_history[1].append(np.array(ep_train_loss).mean())\n",
    "        \n",
    "        # get loss and accuracy for validation data\n",
    "        if valid_loader is not None:\n",
    "            eval_acc, eval_loss = [], []\n",
    "            for xb, yb in valid_loader:\n",
    "                yb = yb.long().cuda()\n",
    "                with torch.no_grad():\n",
    "                    preds = model(xb.cuda())\n",
    "                try:\n",
    "                    eval_loss.append(loss_func(preds, yb).item())\n",
    "                    eval_acc.append(accuracy(preds, yb).item())\n",
    "                except Exception as e:\n",
    "                    print(e)\n",
    "            # mean accuracy and loss for current epoch with validation data\n",
    "            valid_history[0].append(np.array(eval_acc).mean())\n",
    "            valid_history[1].append(np.array(eval_loss).mean())\n",
    "        \n",
    "        print(f'Epoch {ep}. acc:', round(np.array(ep_train_acc).mean(), 5), 'loss:', round(np.array(ep_train_loss).mean(), 5))\n",
    "    \n",
    "    return train_history, valid_history"
   ]
  },
  {
   "cell_type": "markdown",
   "metadata": {},
   "source": [
    "### 1.1 Train model VGG"
   ]
  },
  {
   "cell_type": "code",
   "execution_count": 17,
   "metadata": {},
   "outputs": [
    {
     "name": "stdout",
     "output_type": "stream",
     "text": [
      "Process 0.0%\n",
      "Process 0.08536064874093043%\n",
      "Process 0.17072129748186085%\n",
      "Process 0.2560819462227913%\n",
      "Process 0.3414425949637217%\n",
      "Process 0.42680324370465217%\n",
      "Process 0.5121638924455826%\n",
      "Process 0.597524541186513%\n",
      "Process 0.6828851899274434%\n",
      "Process 0.7682458386683739%\n",
      "Process 0.8536064874093043%\n",
      "Process 0.9389671361502347%\n",
      "Epoch 0. acc: 0.90788 loss: 0.30253\n",
      "Process 0.0%\n",
      "Process 0.08536064874093043%\n",
      "Process 0.17072129748186085%\n",
      "Process 0.2560819462227913%\n",
      "Process 0.3414425949637217%\n",
      "Process 0.42680324370465217%\n",
      "Process 0.5121638924455826%\n",
      "Process 0.597524541186513%\n",
      "Process 0.6828851899274434%\n",
      "Process 0.7682458386683739%\n",
      "Process 0.8536064874093043%\n",
      "Process 0.9389671361502347%\n",
      "Epoch 1. acc: 0.92652 loss: 0.23938\n",
      "Process 0.0%\n",
      "Process 0.08536064874093043%\n",
      "Process 0.17072129748186085%\n",
      "Process 0.2560819462227913%\n",
      "Process 0.3414425949637217%\n",
      "Process 0.42680324370465217%\n",
      "Process 0.5121638924455826%\n",
      "Process 0.597524541186513%\n",
      "Process 0.6828851899274434%\n",
      "Process 0.7682458386683739%\n",
      "Process 0.8536064874093043%\n",
      "Process 0.9389671361502347%\n",
      "Epoch 2. acc: 0.93694 loss: 0.20348\n",
      "Process 0.0%\n",
      "Process 0.08536064874093043%\n",
      "Process 0.17072129748186085%\n",
      "Process 0.2560819462227913%\n",
      "Process 0.3414425949637217%\n",
      "Process 0.42680324370465217%\n",
      "Process 0.5121638924455826%\n",
      "Process 0.597524541186513%\n",
      "Process 0.6828851899274434%\n",
      "Process 0.7682458386683739%\n",
      "Process 0.8536064874093043%\n",
      "Process 0.9389671361502347%\n",
      "Epoch 3. acc: 0.94006 loss: 0.20316\n",
      "Process 0.0%\n",
      "Process 0.08536064874093043%\n",
      "Process 0.17072129748186085%\n",
      "Process 0.2560819462227913%\n",
      "Process 0.3414425949637217%\n",
      "Process 0.42680324370465217%\n",
      "Process 0.5121638924455826%\n",
      "Process 0.597524541186513%\n",
      "Process 0.6828851899274434%\n",
      "Process 0.7682458386683739%\n",
      "Process 0.8536064874093043%\n",
      "Process 0.9389671361502347%\n",
      "Epoch 4. acc: 0.94451 loss: 0.17859\n"
     ]
    }
   ],
   "source": [
    "train_hist, valid_hist = train(vgg_model, epochs=5, optimizer=optimizer_vgg, loss_func=loss_function_vgg, train_loader=vgg_dl_train, valid_loader=vgg_dl_valid, train_frac=0.5) # "
   ]
  },
  {
   "cell_type": "code",
   "execution_count": 18,
   "metadata": {},
   "outputs": [
    {
     "data": {
      "image/png": "[encoded data removed]",
      "text/plain": [
       "<Figure size 432x288 with 1 Axes>"
      ]
     },
     "metadata": {
      "needs_background": "light"
     },
     "output_type": "display_data"
    }
   ],
   "source": [
    "plt.plot(train_hist[0], color='green', label='accuracy')\n",
    "plt.plot(train_hist[1], color='orange', label='loss')\n",
    "plt.legend()\n",
    "plt.show()"
   ]
  },
  {
   "cell_type": "code",
   "execution_count": 19,
   "metadata": {},
   "outputs": [
    {
     "name": "stderr",
     "output_type": "stream",
     "text": [
      "<ipython-input-7-30ed0b62f98d>:12: UserWarning: Implicit dimension choice for softmax has been deprecated. Change the call to include dim=X as an argument.\n",
      "  preds = F.softmax(preds)  # pass results to activate function\n"
     ]
    },
    {
     "name": "stdout",
     "output_type": "stream",
     "text": [
      "accuracy is 0.9408118376324736\n"
     ]
    }
   ],
   "source": [
    "preds, real = validate_model(vgg_model, vgg_dl_valid, num_samples=5000)"
   ]
  },
  {
   "cell_type": "markdown",
   "metadata": {},
   "source": [
    "### 1.2 Train simple CNN model"
   ]
  },
  {
   "cell_type": "code",
   "execution_count": 20,
   "metadata": {},
   "outputs": [
    {
     "name": "stdout",
     "output_type": "stream",
     "text": [
      "Process 0.0%\n",
      "Process 0.12189176011701609%\n",
      "Process 0.24378352023403219%\n",
      "Process 0.3656752803510483%\n",
      "Process 0.48756704046806437%\n",
      "Process 0.6094588005850805%\n",
      "Process 0.7313505607020966%\n",
      "Process 0.8532423208191127%\n",
      "Process 0.9751340809361287%\n",
      "Epoch 0. acc: 0.67564 loss: 0.56072\n",
      "Process 0.0%\n",
      "Process 0.12189176011701609%\n",
      "Process 0.24378352023403219%\n",
      "Process 0.3656752803510483%\n",
      "Process 0.48756704046806437%\n",
      "Process 0.6094588005850805%\n",
      "Process 0.7313505607020966%\n",
      "Process 0.8532423208191127%\n",
      "Process 0.9751340809361287%\n",
      "Epoch 1. acc: 0.88724 loss: 0.26885\n",
      "Process 0.0%\n",
      "Process 0.12189176011701609%\n",
      "Process 0.24378352023403219%\n",
      "Process 0.3656752803510483%\n",
      "Process 0.48756704046806437%\n",
      "Process 0.6094588005850805%\n",
      "Process 0.7313505607020966%\n",
      "Process 0.8532423208191127%\n",
      "Process 0.9751340809361287%\n",
      "Epoch 2. acc: 0.91636 loss: 0.20852\n",
      "Process 0.0%\n",
      "Process 0.12189176011701609%\n",
      "Process 0.24378352023403219%\n",
      "Process 0.3656752803510483%\n",
      "Process 0.48756704046806437%\n",
      "Process 0.6094588005850805%\n",
      "Process 0.7313505607020966%\n",
      "Process 0.8532423208191127%\n",
      "Process 0.9751340809361287%\n",
      "Epoch 3. acc: 0.92834 loss: 0.1794\n",
      "Process 0.0%\n",
      "Process 0.12189176011701609%\n",
      "Process 0.24378352023403219%\n",
      "Process 0.3656752803510483%\n",
      "Process 0.48756704046806437%\n",
      "Process 0.6094588005850805%\n",
      "Process 0.7313505607020966%\n",
      "Process 0.8532423208191127%\n",
      "Process 0.9751340809361287%\n",
      "Epoch 4. acc: 0.93872 loss: 0.15664\n",
      "Process 0.0%\n",
      "Process 0.12189176011701609%\n",
      "Process 0.24378352023403219%\n",
      "Process 0.3656752803510483%\n",
      "Process 0.48756704046806437%\n",
      "Process 0.6094588005850805%\n",
      "Process 0.7313505607020966%\n",
      "Process 0.8532423208191127%\n",
      "Process 0.9751340809361287%\n",
      "Epoch 5. acc: 0.94183 loss: 0.15041\n",
      "Process 0.0%\n",
      "Process 0.12189176011701609%\n",
      "Process 0.24378352023403219%\n",
      "Process 0.3656752803510483%\n",
      "Process 0.48756704046806437%\n",
      "Process 0.6094588005850805%\n",
      "Process 0.7313505607020966%\n",
      "Process 0.8532423208191127%\n",
      "Process 0.9751340809361287%\n",
      "Epoch 6. acc: 0.94742 loss: 0.13415\n",
      "Process 0.0%\n",
      "Process 0.12189176011701609%\n",
      "Process 0.24378352023403219%\n",
      "Process 0.3656752803510483%\n",
      "Process 0.48756704046806437%\n",
      "Process 0.6094588005850805%\n",
      "Process 0.7313505607020966%\n",
      "Process 0.8532423208191127%\n",
      "Process 0.9751340809361287%\n",
      "Epoch 7. acc: 0.94982 loss: 0.13021\n",
      "Process 0.0%\n",
      "Process 0.12189176011701609%\n",
      "Process 0.24378352023403219%\n",
      "Process 0.3656752803510483%\n",
      "Process 0.48756704046806437%\n",
      "Process 0.6094588005850805%\n",
      "Process 0.7313505607020966%\n",
      "Process 0.8532423208191127%\n",
      "Process 0.9751340809361287%\n",
      "Epoch 8. acc: 0.95351 loss: 0.12053\n",
      "Process 0.0%\n",
      "Process 0.12189176011701609%\n",
      "Process 0.24378352023403219%\n",
      "Process 0.3656752803510483%\n",
      "Process 0.48756704046806437%\n",
      "Process 0.6094588005850805%\n",
      "Process 0.7313505607020966%\n",
      "Process 0.8532423208191127%\n",
      "Process 0.9751340809361287%\n",
      "Epoch 9. acc: 0.95563 loss: 0.11551\n",
      "Process 0.0%\n",
      "Process 0.12189176011701609%\n",
      "Process 0.24378352023403219%\n",
      "Process 0.3656752803510483%\n",
      "Process 0.48756704046806437%\n",
      "Process 0.6094588005850805%\n",
      "Process 0.7313505607020966%\n",
      "Process 0.8532423208191127%\n",
      "Process 0.9751340809361287%\n",
      "Epoch 10. acc: 0.95719 loss: 0.11053\n",
      "Process 0.0%\n",
      "Process 0.12189176011701609%\n",
      "Process 0.24378352023403219%\n",
      "Process 0.3656752803510483%\n",
      "Process 0.48756704046806437%\n",
      "Process 0.6094588005850805%\n",
      "Process 0.7313505607020966%\n",
      "Process 0.8532423208191127%\n",
      "Process 0.9751340809361287%\n",
      "Epoch 11. acc: 0.95788 loss: 0.10778\n",
      "Process 0.0%\n",
      "Process 0.12189176011701609%\n",
      "Process 0.24378352023403219%\n",
      "Process 0.3656752803510483%\n",
      "Process 0.48756704046806437%\n",
      "Process 0.6094588005850805%\n",
      "Process 0.7313505607020966%\n",
      "Process 0.8532423208191127%\n",
      "Process 0.9751340809361287%\n",
      "Epoch 12. acc: 0.96069 loss: 0.10357\n",
      "Process 0.0%\n",
      "Process 0.12189176011701609%\n",
      "Process 0.24378352023403219%\n",
      "Process 0.3656752803510483%\n",
      "Process 0.48756704046806437%\n",
      "Process 0.6094588005850805%\n",
      "Process 0.7313505607020966%\n",
      "Process 0.8532423208191127%\n",
      "Process 0.9751340809361287%\n",
      "Epoch 13. acc: 0.964 loss: 0.09571\n",
      "Process 0.0%\n",
      "Process 0.12189176011701609%\n",
      "Process 0.24378352023403219%\n",
      "Process 0.3656752803510483%\n",
      "Process 0.48756704046806437%\n",
      "Process 0.6094588005850805%\n",
      "Process 0.7313505607020966%\n",
      "Process 0.8532423208191127%\n",
      "Process 0.9751340809361287%\n",
      "Epoch 14. acc: 0.96411 loss: 0.09344\n"
     ]
    }
   ],
   "source": [
    "train_hist_cnn, valid_hist_cnn = train(model, epochs=15, optimizer=optimizer, loss_func=loss_function, train_loader=tensor_dl_train, valid_loader=None, train_frac=0.35) # "
   ]
  },
  {
   "cell_type": "code",
   "execution_count": 21,
   "metadata": {},
   "outputs": [
    {
     "data": {
      "image/png": "[encoded data removed]",
      "text/plain": [
       "<Figure size 432x288 with 1 Axes>"
      ]
     },
     "metadata": {
      "needs_background": "light"
     },
     "output_type": "display_data"
    }
   ],
   "source": [
    "plt.plot(train_hist_cnn[0], color='green', label='accuracy')\n",
    "plt.plot(train_hist_cnn[1], color='orange', label='loss')\n",
    "plt.title(\"Simple CNN model\")\n",
    "plt.legend()\n",
    "plt.show()"
   ]
  },
  {
   "cell_type": "markdown",
   "metadata": {},
   "source": [
    "#### Saving models"
   ]
  },
  {
   "cell_type": "code",
   "execution_count": 23,
   "metadata": {},
   "outputs": [],
   "source": [
    "torch.save(vgg_model.cpu(), 'vgg_model_trained.pt')"
   ]
  },
  {
   "cell_type": "code",
   "execution_count": 22,
   "metadata": {},
   "outputs": [],
   "source": [
    "torch.save(model.cpu(), 'my_model_trained.pt')"
   ]
  },
  {
   "cell_type": "code",
   "execution_count": null,
   "metadata": {},
   "outputs": [],
   "source": []
  }
 ],
 "metadata": {
  "kernelspec": {
   "display_name": "Python [conda env:torch_env]",
   "language": "python",
   "name": "conda-env-torch_env-py"
  },
  "language_info": {
   "codemirror_mode": {
    "name": "ipython",
    "version": 3
   },
   "file_extension": ".py",
   "mimetype": "text/x-python",
   "name": "python",
   "nbconvert_exporter": "python",
   "pygments_lexer": "ipython3",
   "version": "3.8.5"
  }
 },
 "nbformat": 4,
 "nbformat_minor": 4
}
